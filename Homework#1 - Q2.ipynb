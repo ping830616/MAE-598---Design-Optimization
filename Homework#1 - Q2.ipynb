{
 "cells": [
  {
   "cell_type": "markdown",
   "id": "99513f8f",
   "metadata": {},
   "source": [
    "(a)\n",
    "\n",
    "$$\n",
    "f(x)={b^T}x + {x^T}Ax\n",
    "$$\n",
    "\n",
    "                                              \n",
    "                                                             It's the original function"
   ]
  },
  {
   "cell_type": "markdown",
   "id": "f6644a01",
   "metadata": {},
   "source": [
    "**The gradient of f(x):**\n"
   ]
  },
  {
   "cell_type": "markdown",
   "id": "eeae2538",
   "metadata": {},
   "source": [
    "$$\n",
    "  \\partial f(x) = {b^T} + \\frac{\\partial ({x^T}Ax)}{\\partial x}\n",
    "$$"
   ]
  },
  {
   "cell_type": "markdown",
   "id": "67195906",
   "metadata": {},
   "source": [
    "<font color='red'>\n",
    "$$\n",
    "  = {b} + 2Ax\n",
    "$$\n",
    "</font>"
   ]
  },
  {
   "cell_type": "markdown",
   "id": "0062b3d4",
   "metadata": {},
   "source": [
    "**The Hessian of f(x):**"
   ]
  },
  {
   "cell_type": "markdown",
   "id": "1fb13ac6",
   "metadata": {},
   "source": [
    "$$\n",
    " H(x) = \\frac{\\partial ( {b} + 2Ax)}{\\partial x}\n",
    "$$"
   ]
  },
  {
   "cell_type": "markdown",
   "id": "95e2c5ad",
   "metadata": {},
   "source": [
    "<font color='red'>\n",
    "$$\n",
    " = 2A\n",
    "$$\n",
    "   </font>"
   ]
  },
  {
   "cell_type": "markdown",
   "id": "413f3ced",
   "metadata": {},
   "source": [
    "(b)"
   ]
  },
  {
   "cell_type": "markdown",
   "id": "e556b83d",
   "metadata": {},
   "source": [
    "**The *first* order Taylor's approximations for A:**"
   ]
  },
  {
   "cell_type": "markdown",
   "id": "c5362a6f",
   "metadata": {},
   "source": [
    "$$\n",
    "f(x) \\approx f(x_{0})+f'(x_{0})(x-x_{0})\n",
    "$$"
   ]
  },
  {
   "cell_type": "markdown",
   "id": "e3160c5c",
   "metadata": {},
   "source": [
    "$$\n",
    "  at\\;x_{0}=0\n",
    "$$"
   ]
  },
  {
   "cell_type": "markdown",
   "id": "0a1a0633",
   "metadata": {},
   "source": [
    "$$\n",
    "f(x_{0})={b^T}x_{0} + {x_{0}^T}Ax_{0}\n",
    "$$"
   ]
  },
  {
   "cell_type": "markdown",
   "id": "c2d19b07",
   "metadata": {},
   "source": [
    "$$\n",
    " f'(x_{0}) = b + 2Ax_{0}\n",
    "$$"
   ]
  },
  {
   "cell_type": "markdown",
   "id": "ffdf5c58",
   "metadata": {},
   "source": [
    "$$\n",
    "\\therefore f(x) \\approx {b^T}x_{0} + {x_{0}^T}Ax_{0} + (b + 2Ax_{0})(x - x_{0})\n",
    "$$"
   ]
  },
  {
   "cell_type": "markdown",
   "id": "4957cfc4",
   "metadata": {},
   "source": [
    "$$\n",
    "Since\\;x_{0}=0,\n",
    "$$"
   ]
  },
  {
   "cell_type": "markdown",
   "id": "46774737",
   "metadata": {},
   "source": [
    "<font color='red'>\n",
    "$$\n",
    " \\Longrightarrow f(x) \\approx {b}x\n",
    "$$\n",
    "</font>\n",
    "                                                             \n",
    "                                                             It's the linear approximation "
   ]
  },
  {
   "cell_type": "markdown",
   "id": "58d12caf",
   "metadata": {},
   "source": [
    "**The *second* order Taylor's approximations for A:**"
   ]
  },
  {
   "cell_type": "markdown",
   "id": "478aec12",
   "metadata": {},
   "source": [
    "$$\n",
    "f(x) \\approx f(x_{0})+f'(x_{0})(x-x_{0}) + \\frac{1}{2}f''(x_{0})(x-x_{0})^2\n",
    "$$"
   ]
  },
  {
   "cell_type": "markdown",
   "id": "a76811c1",
   "metadata": {},
   "source": [
    "$$\n",
    "  at\\;x_{0}=0\n",
    "$$"
   ]
  },
  {
   "cell_type": "markdown",
   "id": "f21c42f1",
   "metadata": {},
   "source": [
    "$$\n",
    "\\therefore f(x) \\approx {b^T}x_{0} + {x_{0}^T}Ax_{0} + (b + 2Ax_{0})(x - x_{0}) + \\frac{1}{2}(2A)(x - x_{0})^2\n",
    "$$"
   ]
  },
  {
   "cell_type": "markdown",
   "id": "75765260",
   "metadata": {},
   "source": [
    "$$\n",
    "Since\\;x_{0}=0,\n",
    "$$"
   ]
  },
  {
   "cell_type": "markdown",
   "id": "e76a6f6f",
   "metadata": {},
   "source": [
    "<font color='red'>\n",
    "$$\n",
    " \\Longrightarrow f(x) \\approx {bx} + Ax^2\n",
    "$$\n",
    "</font>\n",
    "                                              \n",
    "                                                             It's the quadratic approximation "
   ]
  },
  {
   "cell_type": "markdown",
   "id": "c370ca52",
   "metadata": {},
   "source": [
    "*Based on the result of both approximations, the <ins>second order</ins> one becomes nearer or approximates the original function more. In other words, its approximation gets closer to the original function.*"
   ]
  },
  {
   "cell_type": "markdown",
   "id": "77195a35",
   "metadata": {},
   "source": [
    "(c)"
   ]
  },
  {
   "cell_type": "markdown",
   "id": "4c66eaa1",
   "metadata": {},
   "source": [
    "$$\n",
    "H(x) = 2A, \\;and \\;Hx = \\lambda x \\Longrightarrow (H-\\lambda I)x=0\n",
    "$$"
   ]
  },
  {
   "cell_type": "markdown",
   "id": "e170c8d4",
   "metadata": {},
   "source": [
    "$$\n",
    "so\\;2Ax = \\lambda x \\Longrightarrow  (2A-\\lambda I)x = 0\n",
    "$$"
   ]
  },
  {
   "cell_type": "markdown",
   "id": "1e30f5a2",
   "metadata": {},
   "source": [
    "$$\n",
    "If \\;\\;\\;2Ax = \\lambda x \n",
    "$$"
   ]
  },
  {
   "cell_type": "markdown",
   "id": "3fba5b0a",
   "metadata": {},
   "source": [
    "$$\n",
    "then \\;\\;\\;  {x^T}(2A)x = \\lambda {x^T}x \n",
    "$$"
   ]
  },
  {
   "cell_type": "markdown",
   "id": "0af5bf85",
   "metadata": {},
   "source": [
    "$$\n",
    "   (2A)||x||^2 = \\lambda ||x||^2\n",
    "$$"
   ]
  },
  {
   "cell_type": "markdown",
   "id": "d23faf8a",
   "metadata": {},
   "source": [
    "$$\n",
    "  2A = \\lambda I, \n",
    "$$\n",
    "     \n",
    "                                                              \n"
   ]
  },
  {
   "cell_type": "markdown",
   "id": "fe5ef9cd",
   "metadata": {},
   "source": [
    " $\\;\\;\\;\\;\\;\\;\\;\\;\\;\\;\\;\\;\\;\\;\\;\\;\\;\\;\\;\\;\\;\\;\\;\\;\\;\\;\\;\\;\\;\\;\\;\\;\\;\\;\\;\\;\\;\\;\\;\\;\\;\\;\\;\\;\\;\\;\\;\\;\\;\\;\\;\\;\\;\\;\\;\\;\\;\\;\\;\\;\\;\\;\\;\\;\\;\\;\\;\\;\\;\\; $where *I* is an identity matrix as *A* is a square matrix, and the result of $2A$ is a symmetric matrix"
   ]
  },
  {
   "cell_type": "markdown",
   "id": "3d281276",
   "metadata": {},
   "source": [
    "For instance,"
   ]
  },
  {
   "cell_type": "markdown",
   "id": "e67bd03f",
   "metadata": {},
   "source": [
    "$$\n",
    "A = \\begin{bmatrix} a_{1} & a_{2} \\\\ a_{3} & a_{4} \\end{bmatrix},\\;\\; {A^T} = \\begin{bmatrix} a_{1} & a_{3} \\\\ a_{2} & a_{4} \\end{bmatrix}\n",
    "$$\n"
   ]
  },
  {
   "cell_type": "markdown",
   "id": "3c9d2d7a",
   "metadata": {},
   "source": [
    "$$\n",
    "{2A} = \\begin{bmatrix} 2a_{1} & a_{2}+a_{3} \\\\ a_{2}+a_{3} & 2a_{4} \\end{bmatrix}\n",
    "$$\n"
   ]
  },
  {
   "cell_type": "markdown",
   "id": "109cff9f",
   "metadata": {},
   "source": [
    "$$\n",
    "  2A - \\lambda I = 0, \\;\\;\\; \\begin{bmatrix} 2a_{1} & a_{2}+a_{3} \\\\ a_{2}+a_{3} & 2a_{4} \\end{bmatrix} - \\begin{bmatrix} \\lambda & 0 \\\\ 0 & \\lambda \\end{bmatrix}= 0\n",
    "$$"
   ]
  },
  {
   "cell_type": "markdown",
   "id": "d70a76f8",
   "metadata": {},
   "source": [
    "$$\n",
    "\\therefore \\; \\begin{bmatrix} 2a_{1}-\\lambda & a_{2}+a_{3} \\\\ a_{2}+a_{3} & 2a_{4}-\\lambda \\end{bmatrix} = 0\n",
    "$$"
   ]
  },
  {
   "cell_type": "markdown",
   "id": "f06b05d8",
   "metadata": {},
   "source": [
    "**The necessary and sufficient conditions for A to be positive definite:**"
   ]
  },
  {
   "cell_type": "markdown",
   "id": "93e633de",
   "metadata": {},
   "source": [
    "\n",
    "  - All eigenvalues $\\lambda$ > 0\n"
   ]
  },
  {
   "cell_type": "markdown",
   "id": "1a4e9246",
   "metadata": {},
   "source": [
    "$\n",
    "\\Longrightarrow  a_{2}+a_{3} = 0,\\; 2a_{1}=\\lambda, \\; 2a_{4}=\\lambda\n",
    "$"
   ]
  },
  {
   "cell_type": "markdown",
   "id": "c572f92a",
   "metadata": {},
   "source": [
    "<font color='red'>\n",
    "$\n",
    "\\;\\;\\;\\;\\;\\;\\;  a_{1}>0\\; and\\; a_{4}>0\n",
    "$\n",
    "</font>"
   ]
  },
  {
   "cell_type": "markdown",
   "id": "90384b75",
   "metadata": {},
   "source": [
    "  - All upper left determinants > 0\n"
   ]
  },
  {
   "cell_type": "markdown",
   "id": "bf0919f1",
   "metadata": {},
   "source": [
    "<font color='red'>\n",
    "$\n",
    "\\Longrightarrow  a_{1} > 0,\\;\\; a_{4}a_{1} - a_{2}a_{3} > 0 \n",
    "$\n",
    "</font>"
   ]
  },
  {
   "cell_type": "markdown",
   "id": "4b491bb1",
   "metadata": {},
   "source": [
    "  - All pivots > 0"
   ]
  },
  {
   "cell_type": "markdown",
   "id": "220cb3c1",
   "metadata": {},
   "source": [
    "<font color='red'>\n",
    "$\n",
    "\\Longrightarrow a_{1} > 0, \\;\\; a_{4}a_{1} - a_{2}a_{3} > 0 \n",
    "$\n",
    "</font>"
   ]
  },
  {
   "cell_type": "markdown",
   "id": "a7f7f979",
   "metadata": {},
   "source": [
    "- $A = (A')^T(A')$ when *A'* has independent columns"
   ]
  },
  {
   "cell_type": "markdown",
   "id": "1cb7b236",
   "metadata": {},
   "source": [
    "- $x^TAx > 0$, $\\; all \\;x\\;except \\; x=0$"
   ]
  },
  {
   "cell_type": "markdown",
   "id": "03aa2436",
   "metadata": {},
   "source": [
    "(d)"
   ]
  },
  {
   "cell_type": "markdown",
   "id": "0df72b44",
   "metadata": {},
   "source": [
    "**The necessary and sufficient conditions for A to have full rank:**"
   ]
  },
  {
   "cell_type": "markdown",
   "id": "36efce9d",
   "metadata": {},
   "source": [
    "- A is full rank if the determinant is non-zero so they must all be linearly independent. Since the example of A above is a 2x2 matrix, if it has full rank, the rank would be 2. "
   ]
  },
  {
   "cell_type": "markdown",
   "id": "75061542",
   "metadata": {},
   "source": [
    "(e)"
   ]
  },
  {
   "cell_type": "markdown",
   "id": "17d94030",
   "metadata": {},
   "source": [
    "**The conditions on b:**"
   ]
  },
  {
   "cell_type": "markdown",
   "id": "062d6786",
   "metadata": {},
   "source": [
    "- A and b are on the same plane\n",
    "- b is orthogonal to y"
   ]
  }
 ],
 "metadata": {
  "kernelspec": {
   "display_name": "Python 3 (ipykernel)",
   "language": "python",
   "name": "python3"
  },
  "language_info": {
   "codemirror_mode": {
    "name": "ipython",
    "version": 3
   },
   "file_extension": ".py",
   "mimetype": "text/x-python",
   "name": "python",
   "nbconvert_exporter": "python",
   "pygments_lexer": "ipython3",
   "version": "3.9.12"
  }
 },
 "nbformat": 4,
 "nbformat_minor": 5
}
