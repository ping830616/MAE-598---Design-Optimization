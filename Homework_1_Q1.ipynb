{
  "nbformat": 4,
  "nbformat_minor": 0,
  "metadata": {
    "colab": {
      "name": "Homework#1 - Q1",
      "provenance": [],
      "collapsed_sections": [],
      "authorship_tag": "ABX9TyNoY7iXtzM9FGy2VydAvliB",
      "include_colab_link": true
    },
    "kernelspec": {
      "name": "python3",
      "display_name": "Python 3"
    },
    "language_info": {
      "name": "python"
    }
  },
  "cells": [
    {
      "cell_type": "markdown",
      "metadata": {
        "id": "view-in-github",
        "colab_type": "text"
      },
      "source": [
        "<a href=\"https://colab.research.google.com/github/ping830616/MAE-598---Design-Optimization/blob/main/Homework_1_Q1.ipynb\" target=\"_parent\"><img src=\"https://colab.research.google.com/assets/colab-badge.svg\" alt=\"Open In Colab\"/></a>"
      ]
    },
    {
      "cell_type": "code",
      "execution_count": 1,
      "metadata": {
        "id": "hLn2hlJiylIC"
      },
      "outputs": [],
      "source": [
        "import numpy as np\n",
        "from scipy.optimize import minimize\n",
        "import pdb"
      ]
    },
    {
      "cell_type": "code",
      "source": [
        "def objective(x):\n",
        "    # breakpoint()\n",
        "    x1 = x[0]\n",
        "    x2 = x[1]\n",
        "    x3 = x[2]\n",
        "    x4 = x[3]\n",
        "    x5 = x[4]\n",
        "    return (x1-x2)**2+(x2+x3-2)**2+(x4-1)**2+(x5-1)**2\n",
        "def constraint1(x):\n",
        "\n",
        "    return x[0]+3*x[1] \n",
        "def constraint2(x):\n",
        "\n",
        "    return x[2]+x[3]-2*x[4] \n",
        "def constraint3(x):\n",
        "\n",
        "    return x[1]-x[4]"
      ],
      "metadata": {
        "id": "iQjuozypypNE"
      },
      "execution_count": 6,
      "outputs": []
    },
    {
      "cell_type": "code",
      "source": [
        "x0 = [1, 0, 0, 0, 0]\n",
        "print(objective(x0))\n",
        "x1 = [1, 0, 5, 2, 0]\n",
        "print(objective(x1))\n",
        "x2 = [1, 3, 0, 4, 8]\n",
        "print(objective(x2))"
      ],
      "metadata": {
        "colab": {
          "base_uri": "https://localhost:8080/"
        },
        "id": "cxNe8e6fysZE",
        "outputId": "e5524c7e-0d24-4420-aeeb-82d775097a8f"
      },
      "execution_count": 15,
      "outputs": [
        {
          "output_type": "stream",
          "name": "stdout",
          "text": [
            "7\n",
            "12\n",
            "63\n"
          ]
        }
      ]
    },
    {
      "cell_type": "code",
      "source": [
        "b = (-10.0,10.0)\n",
        "bnds = (b,b,b,b,b)\n",
        "con1 = {'type': 'eq', 'fun': constraint1}\n",
        "con2 = {'type': 'eq', 'fun': constraint2}\n",
        "con3 = {'type': 'eq', 'fun': constraint3}\n",
        "cons = [con1, con2, con3]"
      ],
      "metadata": {
        "id": "zy2WnLGZyuUk"
      },
      "execution_count": 16,
      "outputs": []
    },
    {
      "cell_type": "code",
      "source": [
        "print(minimize(objective,x0,method='SLSQP',bounds=bnds,constraints=cons))\n",
        "print(minimize(objective,x1,method='SLSQP',bounds=bnds,constraints=cons))\n",
        "print(minimize(objective,x2,method='SLSQP',bounds=bnds,constraints=cons))"
      ],
      "metadata": {
        "id": "bl9Cw8wtywaF",
        "colab": {
          "base_uri": "https://localhost:8080/"
        },
        "outputId": "60b9cdcc-5a44-4804-91c9-2469194f2a9b"
      },
      "execution_count": 17,
      "outputs": [
        {
          "output_type": "stream",
          "name": "stdout",
          "text": [
            "     fun: 4.093023351025099\n",
            "     jac: array([-2.04702926, -0.18523282, -2.23226213, -2.2324658 , -1.48824263])\n",
            " message: 'Optimization terminated successfully'\n",
            "    nfev: 32\n",
            "     nit: 5\n",
            "    njev: 5\n",
            "  status: 0\n",
            " success: True\n",
            "       x: array([-0.76763599,  0.25587866,  0.62799025, -0.11623292,  0.25587866])\n",
            "     fun: 4.093023255813952\n",
            "     jac: array([-2.04651159, -0.18604648, -2.23255813, -2.23255813, -1.48837203])\n",
            " message: 'Optimization terminated successfully'\n",
            "    nfev: 26\n",
            "     nit: 4\n",
            "    njev: 4\n",
            "  status: 0\n",
            " success: True\n",
            "       x: array([-0.76744186,  0.25581395,  0.62790698, -0.11627907,  0.25581395])\n",
            "     fun: 4.093023366593169\n",
            "     jac: array([-2.04640132, -0.18666005, -2.23306143, -2.23213756, -1.48839968])\n",
            " message: 'Optimization terminated successfully'\n",
            "    nfev: 43\n",
            "     nit: 7\n",
            "    njev: 7\n",
            "  status: 0\n",
            " success: True\n",
            "       x: array([-0.7674005 ,  0.25580017,  0.62766912, -0.11606878,  0.25580017])\n"
          ]
        }
      ]
    },
    {
      "cell_type": "markdown",
      "source": [
        "Notes:\n",
        "\n",
        "fun (function) \n",
        "\n",
        "jac (Jacobian)\n",
        "\n",
        "nfev (number function evaluations)\n",
        "\n",
        "nit (number of iterations)\n",
        "\n",
        "njev (number of Jacobian evaluations)\n",
        "\n",
        "\n",
        "**x** is the solution. \n",
        "\n",
        "\n",
        "*Even if I change my initial guess, I do find the same solution for each case.*"
      ],
      "metadata": {
        "id": "6w4Fk2o3-5o5"
      }
    }
  ]
}